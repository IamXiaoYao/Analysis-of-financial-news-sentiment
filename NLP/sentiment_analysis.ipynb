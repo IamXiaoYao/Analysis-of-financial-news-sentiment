{
 "cells": [
  {
   "cell_type": "code",
   "execution_count": 5,
   "metadata": {},
   "outputs": [],
   "source": [
    "import pandas as pd\n",
    "from scipy.special import softmax\n",
    "from tqdm import tqdm\n",
    "from transformers import (\n",
    "    AutoModelForSequenceClassification,\n",
    "    AutoTokenizer,\n",
    "    BertForSequenceClassification,\n",
    "    BertTokenizer,\n",
    "    pipeline,\n",
    ")\n",
    "\n",
    "tqdm.pandas()"
   ]
  },
  {
   "cell_type": "code",
   "execution_count": 6,
   "metadata": {},
   "outputs": [
    {
     "data": {
      "text/html": [
       "<div>\n",
       "<style scoped>\n",
       "    .dataframe tbody tr th:only-of-type {\n",
       "        vertical-align: middle;\n",
       "    }\n",
       "\n",
       "    .dataframe tbody tr th {\n",
       "        vertical-align: top;\n",
       "    }\n",
       "\n",
       "    .dataframe thead th {\n",
       "        text-align: right;\n",
       "    }\n",
       "</style>\n",
       "<table border=\"1\" class=\"dataframe\">\n",
       "  <thead>\n",
       "    <tr style=\"text-align: right;\">\n",
       "      <th></th>\n",
       "      <th>Unnamed: 0</th>\n",
       "      <th>TITLE</th>\n",
       "      <th>LINK</th>\n",
       "      <th>CONTENT</th>\n",
       "      <th>RELEASE_TIME</th>\n",
       "      <th>Human Label</th>\n",
       "    </tr>\n",
       "  </thead>\n",
       "  <tbody>\n",
       "    <tr>\n",
       "      <th>0</th>\n",
       "      <td>0</td>\n",
       "      <td>Tesla recall, Netflix-FIFA deal, Apple: Market...</td>\n",
       "      <td>https://finance.yahoo.com/video/tesla-recall-n...</td>\n",
       "      <td>Yahoo Finance host Rachelle Akuffo tackles thr...</td>\n",
       "      <td>3 hours ago</td>\n",
       "      <td>neutral</td>\n",
       "    </tr>\n",
       "    <tr>\n",
       "      <th>1</th>\n",
       "      <td>1</td>\n",
       "      <td>Elon Musk Told The U.N. If They Could Show A P...</td>\n",
       "      <td>https://finance.yahoo.com/news/elon-musk-told-...</td>\n",
       "      <td>In a world where hunger kills more people each...</td>\n",
       "      <td>9 minutes ago</td>\n",
       "      <td>neutral</td>\n",
       "    </tr>\n",
       "    <tr>\n",
       "      <th>2</th>\n",
       "      <td>2</td>\n",
       "      <td>Magnificent Seven Stocks: Nvidia, Tesla Revers...</td>\n",
       "      <td>https://finance.yahoo.com/m/4205eaa9-f620-3a0b...</td>\n",
       "      <td>Dubbed the Magnificent Seven stocks, Apple, Mi...</td>\n",
       "      <td>14 minutes ago</td>\n",
       "      <td>positive</td>\n",
       "    </tr>\n",
       "    <tr>\n",
       "      <th>3</th>\n",
       "      <td>3</td>\n",
       "      <td>These Stocks Are Moving the Most Today: FedEx,...</td>\n",
       "      <td>https://finance.yahoo.com/m/57c66b45-0b6c-3ce7...</td>\n",
       "      <td>FedEx, the shipping and logistics giant, plans...</td>\n",
       "      <td>1 hour ago</td>\n",
       "      <td>positive</td>\n",
       "    </tr>\n",
       "    <tr>\n",
       "      <th>4</th>\n",
       "      <td>4</td>\n",
       "      <td>Hyundai and Samsung in talks for automotive ch...</td>\n",
       "      <td>https://finance.yahoo.com/news/hyundai-samsung...</td>\n",
       "      <td>Hyundai aims to establish a domestic supply ch...</td>\n",
       "      <td>1 hour ago</td>\n",
       "      <td>neutral</td>\n",
       "    </tr>\n",
       "  </tbody>\n",
       "</table>\n",
       "</div>"
      ],
      "text/plain": [
       "   Unnamed: 0                                              TITLE  \\\n",
       "0           0  Tesla recall, Netflix-FIFA deal, Apple: Market...   \n",
       "1           1  Elon Musk Told The U.N. If They Could Show A P...   \n",
       "2           2  Magnificent Seven Stocks: Nvidia, Tesla Revers...   \n",
       "3           3  These Stocks Are Moving the Most Today: FedEx,...   \n",
       "4           4  Hyundai and Samsung in talks for automotive ch...   \n",
       "\n",
       "                                                LINK  \\\n",
       "0  https://finance.yahoo.com/video/tesla-recall-n...   \n",
       "1  https://finance.yahoo.com/news/elon-musk-told-...   \n",
       "2  https://finance.yahoo.com/m/4205eaa9-f620-3a0b...   \n",
       "3  https://finance.yahoo.com/m/57c66b45-0b6c-3ce7...   \n",
       "4  https://finance.yahoo.com/news/hyundai-samsung...   \n",
       "\n",
       "                                             CONTENT    RELEASE_TIME  \\\n",
       "0  Yahoo Finance host Rachelle Akuffo tackles thr...     3 hours ago   \n",
       "1  In a world where hunger kills more people each...   9 minutes ago   \n",
       "2  Dubbed the Magnificent Seven stocks, Apple, Mi...  14 minutes ago   \n",
       "3  FedEx, the shipping and logistics giant, plans...      1 hour ago   \n",
       "4  Hyundai aims to establish a domestic supply ch...      1 hour ago   \n",
       "\n",
       "  Human Label  \n",
       "0     neutral  \n",
       "1     neutral  \n",
       "2    positive  \n",
       "3    positive  \n",
       "4     neutral  "
      ]
     },
     "execution_count": 6,
     "metadata": {},
     "output_type": "execute_result"
    }
   ],
   "source": [
    "file_path = '../Crawl_Data/Data/yahoo_news_20241221_044513.csv'\n",
    "df = pd.read_csv(file_path, )\n",
    "df.head()"
   ]
  },
  {
   "cell_type": "code",
   "execution_count": 7,
   "metadata": {},
   "outputs": [
    {
     "name": "stdout",
     "output_type": "stream",
     "text": [
      "(400, 6)\n"
     ]
    },
    {
     "data": {
      "text/plain": [
       "['Unnamed: 0', 'TITLE', 'LINK', 'CONTENT', 'RELEASE_TIME', 'Human Label']"
      ]
     },
     "execution_count": 7,
     "metadata": {},
     "output_type": "execute_result"
    }
   ],
   "source": [
    "print(df.shape)\n",
    "df.columns.tolist()"
   ]
  },
  {
   "cell_type": "code",
   "execution_count": 8,
   "metadata": {},
   "outputs": [
    {
     "data": {
      "text/plain": [
       "0"
      ]
     },
     "execution_count": 8,
     "metadata": {},
     "output_type": "execute_result"
    }
   ],
   "source": [
    "df.isnull().sum().sum()"
   ]
  },
  {
   "cell_type": "code",
   "execution_count": 9,
   "metadata": {},
   "outputs": [
    {
     "data": {
      "text/html": [
       "<div>\n",
       "<style scoped>\n",
       "    .dataframe tbody tr th:only-of-type {\n",
       "        vertical-align: middle;\n",
       "    }\n",
       "\n",
       "    .dataframe tbody tr th {\n",
       "        vertical-align: top;\n",
       "    }\n",
       "\n",
       "    .dataframe thead th {\n",
       "        text-align: right;\n",
       "    }\n",
       "</style>\n",
       "<table border=\"1\" class=\"dataframe\">\n",
       "  <thead>\n",
       "    <tr style=\"text-align: right;\">\n",
       "      <th></th>\n",
       "      <th>Id</th>\n",
       "      <th>TITLE</th>\n",
       "      <th>CONTENT</th>\n",
       "      <th>RELEASE_TIME</th>\n",
       "      <th>Human Label</th>\n",
       "    </tr>\n",
       "  </thead>\n",
       "  <tbody>\n",
       "    <tr>\n",
       "      <th>0</th>\n",
       "      <td>0</td>\n",
       "      <td>Tesla recall, Netflix-FIFA deal, Apple: Market...</td>\n",
       "      <td>Yahoo Finance host Rachelle Akuffo tackles thr...</td>\n",
       "      <td>3 hours ago</td>\n",
       "      <td>neutral</td>\n",
       "    </tr>\n",
       "    <tr>\n",
       "      <th>1</th>\n",
       "      <td>1</td>\n",
       "      <td>Elon Musk Told The U.N. If They Could Show A P...</td>\n",
       "      <td>In a world where hunger kills more people each...</td>\n",
       "      <td>9 minutes ago</td>\n",
       "      <td>neutral</td>\n",
       "    </tr>\n",
       "    <tr>\n",
       "      <th>2</th>\n",
       "      <td>2</td>\n",
       "      <td>Magnificent Seven Stocks: Nvidia, Tesla Revers...</td>\n",
       "      <td>Dubbed the Magnificent Seven stocks, Apple, Mi...</td>\n",
       "      <td>14 minutes ago</td>\n",
       "      <td>positive</td>\n",
       "    </tr>\n",
       "    <tr>\n",
       "      <th>3</th>\n",
       "      <td>3</td>\n",
       "      <td>These Stocks Are Moving the Most Today: FedEx,...</td>\n",
       "      <td>FedEx, the shipping and logistics giant, plans...</td>\n",
       "      <td>1 hour ago</td>\n",
       "      <td>positive</td>\n",
       "    </tr>\n",
       "    <tr>\n",
       "      <th>4</th>\n",
       "      <td>4</td>\n",
       "      <td>Hyundai and Samsung in talks for automotive ch...</td>\n",
       "      <td>Hyundai aims to establish a domestic supply ch...</td>\n",
       "      <td>1 hour ago</td>\n",
       "      <td>neutral</td>\n",
       "    </tr>\n",
       "  </tbody>\n",
       "</table>\n",
       "</div>"
      ],
      "text/plain": [
       "   Id                                              TITLE  \\\n",
       "0   0  Tesla recall, Netflix-FIFA deal, Apple: Market...   \n",
       "1   1  Elon Musk Told The U.N. If They Could Show A P...   \n",
       "2   2  Magnificent Seven Stocks: Nvidia, Tesla Revers...   \n",
       "3   3  These Stocks Are Moving the Most Today: FedEx,...   \n",
       "4   4  Hyundai and Samsung in talks for automotive ch...   \n",
       "\n",
       "                                             CONTENT    RELEASE_TIME  \\\n",
       "0  Yahoo Finance host Rachelle Akuffo tackles thr...     3 hours ago   \n",
       "1  In a world where hunger kills more people each...   9 minutes ago   \n",
       "2  Dubbed the Magnificent Seven stocks, Apple, Mi...  14 minutes ago   \n",
       "3  FedEx, the shipping and logistics giant, plans...      1 hour ago   \n",
       "4  Hyundai aims to establish a domestic supply ch...      1 hour ago   \n",
       "\n",
       "  Human Label  \n",
       "0     neutral  \n",
       "1     neutral  \n",
       "2    positive  \n",
       "3    positive  \n",
       "4     neutral  "
      ]
     },
     "execution_count": 9,
     "metadata": {},
     "output_type": "execute_result"
    }
   ],
   "source": [
    "df = df[['TITLE','CONTENT','RELEASE_TIME','Human Label']]\n",
    "df = df.reset_index().rename(columns={'index':'Id'})\n",
    "df.head()"
   ]
  },
  {
   "cell_type": "code",
   "execution_count": 10,
   "metadata": {},
   "outputs": [
    {
     "data": {
      "text/plain": [
       "'Dubbed the Magnificent Seven stocks, Apple, Microsoft, Google parent Alphabet, Amazon.com, Nvidia, Meta Platforms and Tesla lived up to their name in 2023 with big gains. And all of them boasted solid year-to-date gains in the final month of 2024.'"
      ]
     },
     "execution_count": 10,
     "metadata": {},
     "output_type": "execute_result"
    }
   ],
   "source": [
    "text_example = df['CONTENT'][2]\n",
    "text_example"
   ]
  },
  {
   "cell_type": "markdown",
   "metadata": {},
   "source": [
    "## FinancialBERT"
   ]
  },
  {
   "cell_type": "code",
   "execution_count": 11,
   "metadata": {},
   "outputs": [],
   "source": [
    "Fin_model = BertForSequenceClassification.from_pretrained(\"ahmedrachid/FinancialBERT-Sentiment-Analysis\",num_labels=3)\n",
    "Fin_tokenizer = BertTokenizer.from_pretrained(\"ahmedrachid/FinancialBERT-Sentiment-Analysis\")"
   ]
  },
  {
   "cell_type": "code",
   "execution_count": 12,
   "metadata": {},
   "outputs": [],
   "source": [
    "def polarity_scores_financialBERT(text):\n",
    "    encoded_text = Fin_tokenizer(text, return_tensors='pt')\n",
    "    output = Fin_model(**encoded_text)\n",
    "    scores = output[0][0].detach().numpy()\n",
    "    scores = softmax(scores)\n",
    "    scores_dict = {\n",
    "        'financialBERT_neg': scores[0],\n",
    "        'financialBERT_neu': scores[1],\n",
    "        'financialBERT_pos': scores[2]\n",
    "    }\n",
    "\n",
    "    return scores_dict"
   ]
  },
  {
   "cell_type": "code",
   "execution_count": 13,
   "metadata": {},
   "outputs": [
    {
     "data": {
      "text/plain": [
       "{'financialBERT_neg': 8.471948e-05,\n",
       " 'financialBERT_neu': 8.4637024e-05,\n",
       " 'financialBERT_pos': 0.9998306}"
      ]
     },
     "execution_count": 13,
     "metadata": {},
     "output_type": "execute_result"
    }
   ],
   "source": [
    "res = polarity_scores_financialBERT(text_example)\n",
    "res"
   ]
  },
  {
   "cell_type": "markdown",
   "metadata": {},
   "source": [
    "## DistilRoberta"
   ]
  },
  {
   "cell_type": "code",
   "execution_count": 14,
   "metadata": {},
   "outputs": [],
   "source": [
    "model_name = \"mrm8488/distilroberta-finetuned-financial-news-sentiment-analysis\"\n",
    "distilroberta_tokenizer = AutoTokenizer.from_pretrained(model_name)\n",
    "distilroberta_model = AutoModelForSequenceClassification.from_pretrained(model_name)"
   ]
  },
  {
   "cell_type": "code",
   "execution_count": 15,
   "metadata": {},
   "outputs": [],
   "source": [
    "def polarity_scores_distilRoberta(text):\n",
    "    encoded_text = distilroberta_tokenizer(text, return_tensors='pt')\n",
    "    output = distilroberta_model(**encoded_text)\n",
    "    scores = output[0][0].detach().numpy()\n",
    "    scores = softmax(scores)\n",
    "    scores_dict = {\n",
    "        'distilRoberta_neg': scores[0],\n",
    "        'distilRoberta_neu': scores[1],\n",
    "        'distilRoberta_pos': scores[2]\n",
    "    }\n",
    "\n",
    "    return scores_dict"
   ]
  },
  {
   "cell_type": "code",
   "execution_count": 16,
   "metadata": {},
   "outputs": [
    {
     "data": {
      "text/plain": [
       "{'distilRoberta_neg': 0.00024128768,\n",
       " 'distilRoberta_neu': 8.422791e-05,\n",
       " 'distilRoberta_pos': 0.99967444}"
      ]
     },
     "execution_count": 16,
     "metadata": {},
     "output_type": "execute_result"
    }
   ],
   "source": [
    "res = polarity_scores_distilRoberta(text_example)\n",
    "res"
   ]
  },
  {
   "cell_type": "code",
   "execution_count": 17,
   "metadata": {},
   "outputs": [
    {
     "name": "stderr",
     "output_type": "stream",
     "text": [
      "100%|██████████| 400/400 [02:52<00:00,  2.32it/s]\n"
     ]
    }
   ],
   "source": [
    "sentiment_results = {}\n",
    "for i, row in tqdm(df.iterrows(), total=len(df)):\n",
    "    try:\n",
    "        title = row['TITLE']\n",
    "        content = row['CONTENT']\n",
    "        cid = row['Id']\n",
    "        vader_results = polarity_scores_financialBERT(content)\n",
    "        roberta_results = polarity_scores_distilRoberta(content)\n",
    "        both = {**vader_results, **roberta_results}\n",
    "        sentiment_results[cid] = both\n",
    "    except RuntimeError:\n",
    "        print(f'Broke for cid {cid}')"
   ]
  },
  {
   "cell_type": "code",
   "execution_count": 18,
   "metadata": {},
   "outputs": [
    {
     "data": {
      "text/html": [
       "<div>\n",
       "<style scoped>\n",
       "    .dataframe tbody tr th:only-of-type {\n",
       "        vertical-align: middle;\n",
       "    }\n",
       "\n",
       "    .dataframe tbody tr th {\n",
       "        vertical-align: top;\n",
       "    }\n",
       "\n",
       "    .dataframe thead th {\n",
       "        text-align: right;\n",
       "    }\n",
       "</style>\n",
       "<table border=\"1\" class=\"dataframe\">\n",
       "  <thead>\n",
       "    <tr style=\"text-align: right;\">\n",
       "      <th></th>\n",
       "      <th>Id</th>\n",
       "      <th>financialBERT_neg</th>\n",
       "      <th>financialBERT_neu</th>\n",
       "      <th>financialBERT_pos</th>\n",
       "      <th>distilRoberta_neg</th>\n",
       "      <th>distilRoberta_neu</th>\n",
       "      <th>distilRoberta_pos</th>\n",
       "    </tr>\n",
       "  </thead>\n",
       "  <tbody>\n",
       "    <tr>\n",
       "      <th>0</th>\n",
       "      <td>0</td>\n",
       "      <td>0.000280</td>\n",
       "      <td>0.996714</td>\n",
       "      <td>0.003006</td>\n",
       "      <td>0.000332</td>\n",
       "      <td>0.001653</td>\n",
       "      <td>0.998015</td>\n",
       "    </tr>\n",
       "    <tr>\n",
       "      <th>1</th>\n",
       "      <td>1</td>\n",
       "      <td>0.002570</td>\n",
       "      <td>0.980410</td>\n",
       "      <td>0.017021</td>\n",
       "      <td>0.000523</td>\n",
       "      <td>0.981101</td>\n",
       "      <td>0.018375</td>\n",
       "    </tr>\n",
       "    <tr>\n",
       "      <th>2</th>\n",
       "      <td>2</td>\n",
       "      <td>0.000085</td>\n",
       "      <td>0.000085</td>\n",
       "      <td>0.999831</td>\n",
       "      <td>0.000241</td>\n",
       "      <td>0.000084</td>\n",
       "      <td>0.999674</td>\n",
       "    </tr>\n",
       "    <tr>\n",
       "      <th>3</th>\n",
       "      <td>3</td>\n",
       "      <td>0.008248</td>\n",
       "      <td>0.074243</td>\n",
       "      <td>0.917510</td>\n",
       "      <td>0.004953</td>\n",
       "      <td>0.000112</td>\n",
       "      <td>0.994934</td>\n",
       "    </tr>\n",
       "    <tr>\n",
       "      <th>4</th>\n",
       "      <td>4</td>\n",
       "      <td>0.000095</td>\n",
       "      <td>0.999830</td>\n",
       "      <td>0.000075</td>\n",
       "      <td>0.000057</td>\n",
       "      <td>0.999788</td>\n",
       "      <td>0.000155</td>\n",
       "    </tr>\n",
       "  </tbody>\n",
       "</table>\n",
       "</div>"
      ],
      "text/plain": [
       "   Id  financialBERT_neg  financialBERT_neu  financialBERT_pos  \\\n",
       "0   0           0.000280           0.996714           0.003006   \n",
       "1   1           0.002570           0.980410           0.017021   \n",
       "2   2           0.000085           0.000085           0.999831   \n",
       "3   3           0.008248           0.074243           0.917510   \n",
       "4   4           0.000095           0.999830           0.000075   \n",
       "\n",
       "   distilRoberta_neg  distilRoberta_neu  distilRoberta_pos  \n",
       "0           0.000332           0.001653           0.998015  \n",
       "1           0.000523           0.981101           0.018375  \n",
       "2           0.000241           0.000084           0.999674  \n",
       "3           0.004953           0.000112           0.994934  \n",
       "4           0.000057           0.999788           0.000155  "
      ]
     },
     "execution_count": 18,
     "metadata": {},
     "output_type": "execute_result"
    }
   ],
   "source": [
    "results_df = pd.DataFrame(sentiment_results).T\n",
    "results_df = results_df.reset_index().rename(columns={'index': 'Id'})\n",
    "results_df.head()"
   ]
  },
  {
   "cell_type": "markdown",
   "metadata": {},
   "source": [
    "## The Transformers Pipeline"
   ]
  },
  {
   "cell_type": "code",
   "execution_count": 19,
   "metadata": {},
   "outputs": [
    {
     "name": "stderr",
     "output_type": "stream",
     "text": [
      "Device set to use cpu\n",
      "Device set to use cpu\n"
     ]
    }
   ],
   "source": [
    "Financial_pipe = pipeline(\"sentiment-analysis\", model=Fin_model, tokenizer=Fin_tokenizer)\n",
    "Distilroberta_pipe = pipeline(\"text-classification\", model=distilroberta_model, tokenizer=distilroberta_tokenizer)"
   ]
  },
  {
   "cell_type": "code",
   "execution_count": 20,
   "metadata": {},
   "outputs": [
    {
     "name": "stdout",
     "output_type": "stream",
     "text": [
      "[{'label': 'positive', 'score': 0.9998306035995483}]\n"
     ]
    },
    {
     "data": {
      "text/plain": [
       "[{'label': 'positive', 'score': 0.9996744394302368}]"
      ]
     },
     "execution_count": 20,
     "metadata": {},
     "output_type": "execute_result"
    }
   ],
   "source": [
    "print(Financial_pipe(text_example))\n",
    "Distilroberta_pipe(text_example)"
   ]
  },
  {
   "cell_type": "code",
   "execution_count": 21,
   "metadata": {},
   "outputs": [
    {
     "name": "stderr",
     "output_type": "stream",
     "text": [
      "100%|██████████| 400/400 [01:39<00:00,  4.01it/s]\n",
      "100%|██████████| 400/400 [00:43<00:00,  9.12it/s]\n"
     ]
    }
   ],
   "source": [
    "def get_sentiment_through_pipeline(text, pipeline):\n",
    "    try:\n",
    "        # Get the sentiment result for the text\n",
    "        result = pipeline(text)[0] \n",
    "        return result['label'], result['score']\n",
    "    except Exception as e:\n",
    "        print(f\"Error processing text: {text} - {e}\")\n",
    "        return None, None\n",
    "    \n",
    "df[['FinancialBERT_label', 'FinancialBERT_score']] = df['CONTENT'].progress_apply(lambda x: pd.Series(get_sentiment_through_pipeline(x, Financial_pipe)))\n",
    "df[['Distilroberta_label', 'Distilroberta_score']] = df['CONTENT'].progress_apply(lambda x: pd.Series(get_sentiment_through_pipeline(x, Distilroberta_pipe)))"
   ]
  },
  {
   "cell_type": "code",
   "execution_count": 22,
   "metadata": {},
   "outputs": [
    {
     "data": {
      "text/html": [
       "<div>\n",
       "<style scoped>\n",
       "    .dataframe tbody tr th:only-of-type {\n",
       "        vertical-align: middle;\n",
       "    }\n",
       "\n",
       "    .dataframe tbody tr th {\n",
       "        vertical-align: top;\n",
       "    }\n",
       "\n",
       "    .dataframe thead th {\n",
       "        text-align: right;\n",
       "    }\n",
       "</style>\n",
       "<table border=\"1\" class=\"dataframe\">\n",
       "  <thead>\n",
       "    <tr style=\"text-align: right;\">\n",
       "      <th></th>\n",
       "      <th>Id</th>\n",
       "      <th>financialBERT_neg</th>\n",
       "      <th>financialBERT_neu</th>\n",
       "      <th>financialBERT_pos</th>\n",
       "      <th>distilRoberta_neg</th>\n",
       "      <th>distilRoberta_neu</th>\n",
       "      <th>distilRoberta_pos</th>\n",
       "      <th>TITLE</th>\n",
       "      <th>CONTENT</th>\n",
       "      <th>RELEASE_TIME</th>\n",
       "      <th>Human Label</th>\n",
       "      <th>FinancialBERT_label</th>\n",
       "      <th>FinancialBERT_score</th>\n",
       "      <th>Distilroberta_label</th>\n",
       "      <th>Distilroberta_score</th>\n",
       "    </tr>\n",
       "  </thead>\n",
       "  <tbody>\n",
       "    <tr>\n",
       "      <th>0</th>\n",
       "      <td>0</td>\n",
       "      <td>0.000280</td>\n",
       "      <td>0.996714</td>\n",
       "      <td>0.003006</td>\n",
       "      <td>0.000332</td>\n",
       "      <td>0.001653</td>\n",
       "      <td>0.998015</td>\n",
       "      <td>Tesla recall, Netflix-FIFA deal, Apple: Market...</td>\n",
       "      <td>Yahoo Finance host Rachelle Akuffo tackles thr...</td>\n",
       "      <td>3 hours ago</td>\n",
       "      <td>neutral</td>\n",
       "      <td>neutral</td>\n",
       "      <td>0.996714</td>\n",
       "      <td>positive</td>\n",
       "      <td>0.998015</td>\n",
       "    </tr>\n",
       "    <tr>\n",
       "      <th>1</th>\n",
       "      <td>1</td>\n",
       "      <td>0.002570</td>\n",
       "      <td>0.980410</td>\n",
       "      <td>0.017021</td>\n",
       "      <td>0.000523</td>\n",
       "      <td>0.981101</td>\n",
       "      <td>0.018375</td>\n",
       "      <td>Elon Musk Told The U.N. If They Could Show A P...</td>\n",
       "      <td>In a world where hunger kills more people each...</td>\n",
       "      <td>9 minutes ago</td>\n",
       "      <td>neutral</td>\n",
       "      <td>neutral</td>\n",
       "      <td>0.980410</td>\n",
       "      <td>neutral</td>\n",
       "      <td>0.981101</td>\n",
       "    </tr>\n",
       "    <tr>\n",
       "      <th>2</th>\n",
       "      <td>2</td>\n",
       "      <td>0.000085</td>\n",
       "      <td>0.000085</td>\n",
       "      <td>0.999831</td>\n",
       "      <td>0.000241</td>\n",
       "      <td>0.000084</td>\n",
       "      <td>0.999674</td>\n",
       "      <td>Magnificent Seven Stocks: Nvidia, Tesla Revers...</td>\n",
       "      <td>Dubbed the Magnificent Seven stocks, Apple, Mi...</td>\n",
       "      <td>14 minutes ago</td>\n",
       "      <td>positive</td>\n",
       "      <td>positive</td>\n",
       "      <td>0.999831</td>\n",
       "      <td>positive</td>\n",
       "      <td>0.999674</td>\n",
       "    </tr>\n",
       "    <tr>\n",
       "      <th>3</th>\n",
       "      <td>3</td>\n",
       "      <td>0.008248</td>\n",
       "      <td>0.074243</td>\n",
       "      <td>0.917510</td>\n",
       "      <td>0.004953</td>\n",
       "      <td>0.000112</td>\n",
       "      <td>0.994934</td>\n",
       "      <td>These Stocks Are Moving the Most Today: FedEx,...</td>\n",
       "      <td>FedEx, the shipping and logistics giant, plans...</td>\n",
       "      <td>1 hour ago</td>\n",
       "      <td>positive</td>\n",
       "      <td>positive</td>\n",
       "      <td>0.917510</td>\n",
       "      <td>positive</td>\n",
       "      <td>0.994934</td>\n",
       "    </tr>\n",
       "    <tr>\n",
       "      <th>4</th>\n",
       "      <td>4</td>\n",
       "      <td>0.000095</td>\n",
       "      <td>0.999830</td>\n",
       "      <td>0.000075</td>\n",
       "      <td>0.000057</td>\n",
       "      <td>0.999788</td>\n",
       "      <td>0.000155</td>\n",
       "      <td>Hyundai and Samsung in talks for automotive ch...</td>\n",
       "      <td>Hyundai aims to establish a domestic supply ch...</td>\n",
       "      <td>1 hour ago</td>\n",
       "      <td>neutral</td>\n",
       "      <td>neutral</td>\n",
       "      <td>0.999830</td>\n",
       "      <td>neutral</td>\n",
       "      <td>0.999788</td>\n",
       "    </tr>\n",
       "  </tbody>\n",
       "</table>\n",
       "</div>"
      ],
      "text/plain": [
       "   Id  financialBERT_neg  financialBERT_neu  financialBERT_pos  \\\n",
       "0   0           0.000280           0.996714           0.003006   \n",
       "1   1           0.002570           0.980410           0.017021   \n",
       "2   2           0.000085           0.000085           0.999831   \n",
       "3   3           0.008248           0.074243           0.917510   \n",
       "4   4           0.000095           0.999830           0.000075   \n",
       "\n",
       "   distilRoberta_neg  distilRoberta_neu  distilRoberta_pos  \\\n",
       "0           0.000332           0.001653           0.998015   \n",
       "1           0.000523           0.981101           0.018375   \n",
       "2           0.000241           0.000084           0.999674   \n",
       "3           0.004953           0.000112           0.994934   \n",
       "4           0.000057           0.999788           0.000155   \n",
       "\n",
       "                                               TITLE  \\\n",
       "0  Tesla recall, Netflix-FIFA deal, Apple: Market...   \n",
       "1  Elon Musk Told The U.N. If They Could Show A P...   \n",
       "2  Magnificent Seven Stocks: Nvidia, Tesla Revers...   \n",
       "3  These Stocks Are Moving the Most Today: FedEx,...   \n",
       "4  Hyundai and Samsung in talks for automotive ch...   \n",
       "\n",
       "                                             CONTENT    RELEASE_TIME  \\\n",
       "0  Yahoo Finance host Rachelle Akuffo tackles thr...     3 hours ago   \n",
       "1  In a world where hunger kills more people each...   9 minutes ago   \n",
       "2  Dubbed the Magnificent Seven stocks, Apple, Mi...  14 minutes ago   \n",
       "3  FedEx, the shipping and logistics giant, plans...      1 hour ago   \n",
       "4  Hyundai aims to establish a domestic supply ch...      1 hour ago   \n",
       "\n",
       "  Human Label FinancialBERT_label  FinancialBERT_score Distilroberta_label  \\\n",
       "0     neutral             neutral             0.996714            positive   \n",
       "1     neutral             neutral             0.980410             neutral   \n",
       "2    positive            positive             0.999831            positive   \n",
       "3    positive            positive             0.917510            positive   \n",
       "4     neutral             neutral             0.999830             neutral   \n",
       "\n",
       "   Distilroberta_score  \n",
       "0             0.998015  \n",
       "1             0.981101  \n",
       "2             0.999674  \n",
       "3             0.994934  \n",
       "4             0.999788  "
      ]
     },
     "execution_count": 22,
     "metadata": {},
     "output_type": "execute_result"
    }
   ],
   "source": [
    "results_df = results_df.merge(df, how='left')\n",
    "results_df.head()"
   ]
  },
  {
   "cell_type": "code",
   "execution_count": 23,
   "metadata": {},
   "outputs": [],
   "source": [
    "results_df.to_excel('financial_news_results.xlsx', index=False)"
   ]
  },
  {
   "cell_type": "markdown",
   "metadata": {},
   "source": [
    "### Evaluation"
   ]
  },
  {
   "cell_type": "code",
   "execution_count": 25,
   "metadata": {},
   "outputs": [],
   "source": [
    "from sklearn.metrics import accuracy_score, classification_report\n",
    "\n",
    "# Compute accuracy for FinancialBERT\n",
    "finbert_accuracy = accuracy_score(results_df['Human Label'], results_df['FinancialBERT_label'])\n",
    "finbert_report = classification_report(results_df['Human Label'], results_df['FinancialBERT_label'])\n",
    "\n",
    "# Compute accuracy for DistilRoBERTa\n",
    "distilroberta_accuracy = accuracy_score(results_df['Human Label'], results_df['Distilroberta_label'])\n",
    "distilroberta_report = classification_report(results_df['Human Label'], results_df['Distilroberta_label'])\n"
   ]
  },
  {
   "cell_type": "code",
   "execution_count": 26,
   "metadata": {},
   "outputs": [
    {
     "name": "stdout",
     "output_type": "stream",
     "text": [
      "FinancialBERT Accuracy: 0.9025\n",
      "FinancialBERT Classification Report:\n",
      "               precision    recall  f1-score   support\n",
      "\n",
      "    negative       0.90      0.89      0.90        63\n",
      "     neutral       0.95      0.85      0.89       196\n",
      "    positive       0.85      0.99      0.91       141\n",
      "\n",
      "    accuracy                           0.90       400\n",
      "   macro avg       0.90      0.91      0.90       400\n",
      "weighted avg       0.91      0.90      0.90       400\n",
      "\n",
      "\n",
      "DistilRoBERTa Accuracy: 0.8325\n",
      "DistilRoBERTa Classification Report:\n",
      "               precision    recall  f1-score   support\n",
      "\n",
      "    negative       0.71      0.95      0.81        63\n",
      "     neutral       0.95      0.70      0.81       196\n",
      "    positive       0.79      0.96      0.87       141\n",
      "\n",
      "    accuracy                           0.83       400\n",
      "   macro avg       0.82      0.87      0.83       400\n",
      "weighted avg       0.86      0.83      0.83       400\n",
      "\n"
     ]
    }
   ],
   "source": [
    "print(\"FinancialBERT Accuracy:\", finbert_accuracy)\n",
    "print(\"FinancialBERT Classification Report:\\n\", finbert_report)\n",
    "\n",
    "print(\"\\nDistilRoBERTa Accuracy:\", distilroberta_accuracy)\n",
    "print(\"DistilRoBERTa Classification Report:\\n\", distilroberta_report)"
   ]
  },
  {
   "cell_type": "code",
   "execution_count": 27,
   "metadata": {},
   "outputs": [
    {
     "name": "stdout",
     "output_type": "stream",
     "text": [
      "FinancialBERT Precision: 0.9015\n",
      "FinancialBERT Recall: 0.9072\n",
      "\n",
      "DistilRoBERTa Precision: 0.8172\n",
      "DistilRoBERTa Recall: 0.8713\n"
     ]
    }
   ],
   "source": [
    "import matplotlib.pyplot as plt\n",
    "import seaborn as sns\n",
    "from sklearn.metrics import precision_score, recall_score, confusion_matrix\n",
    "\n",
    "\n",
    "finbert_precision = precision_score(results_df['Human Label'], results_df['FinancialBERT_label'], average='macro')\n",
    "finbert_recall = recall_score(results_df['Human Label'], results_df['FinancialBERT_label'], average='macro')\n",
    "\n",
    "distilroberta_precision = precision_score(results_df['Human Label'], results_df['Distilroberta_label'], average='macro')\n",
    "distilroberta_recall = recall_score(results_df['Human Label'], results_df['Distilroberta_label'], average='macro')\n",
    "\n",
    "\n",
    "print(\"FinancialBERT Precision:\", round(finbert_precision, 4))\n",
    "print(\"FinancialBERT Recall:\", round(finbert_recall, 4))\n",
    "print(\"\\nDistilRoBERTa Precision:\", round(distilroberta_precision, 4))\n",
    "print(\"DistilRoBERTa Recall:\", round(distilroberta_recall, 4))\n",
    "\n"
   ]
  },
  {
   "cell_type": "code",
   "execution_count": 28,
   "metadata": {},
   "outputs": [
    {
     "data": {
      "image/png": "[encoded data removed]",
      "text/plain": [
       "<Figure size 1200x500 with 4 Axes>"
      ]
     },
     "metadata": {},
     "output_type": "display_data"
    }
   ],
   "source": [
    "# Compute confusion matrices\n",
    "finbert_cm = confusion_matrix(results_df['Human Label'], results_df['FinancialBERT_label'])\n",
    "distilroberta_cm = confusion_matrix(results_df['Human Label'], results_df['Distilroberta_label'])\n",
    "\n",
    "fig, axes = plt.subplots(1, 2, figsize=(12, 5))\n",
    "\n",
    "sns.heatmap(finbert_cm, annot=True, fmt='d', cmap='Blues', ax=axes[0])\n",
    "axes[0].set_title(\"FinancialBERT Confusion Matrix\")\n",
    "axes[0].set_xlabel(\"Predicted Label\")\n",
    "axes[0].set_ylabel(\"True Label\")\n",
    "\n",
    "sns.heatmap(distilroberta_cm, annot=True, fmt='d', cmap='Oranges', ax=axes[1])\n",
    "axes[1].set_title(\"DistilRoBERTa Confusion Matrix\")\n",
    "axes[1].set_xlabel(\"Predicted Label\")\n",
    "axes[1].set_ylabel(\"True Label\")\n",
    "\n",
    "plt.tight_layout()\n",
    "plt.show()"
   ]
  },
  {
   "cell_type": "code",
   "execution_count": 24,
   "metadata": {},
   "outputs": [],
   "source": [
    "# mismatched_count = (results_df['FinancialBERT_label'] != results_df['Distilroberta_label']).sum()\n",
    "# mismatched_count"
   ]
  }
 ],
 "metadata": {
  "kernelspec": {
   "display_name": "DSA",
   "language": "python",
   "name": "dsa"
  },
  "language_info": {
   "codemirror_mode": {
    "name": "ipython",
    "version": 3
   },
   "file_extension": ".py",
   "mimetype": "text/x-python",
   "name": "python",
   "nbconvert_exporter": "python",
   "pygments_lexer": "ipython3",
   "version": "3.11.4"
  }
 },
 "nbformat": 4,
 "nbformat_minor": 2
}
