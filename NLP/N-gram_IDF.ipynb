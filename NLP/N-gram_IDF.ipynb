{
 "cells": [
  {
   "cell_type": "code",
   "execution_count": 9,
   "metadata": {},
   "outputs": [],
   "source": [
    "import pandas as pd\n",
    "from tqdm import tqdm\n",
    "from nltk.corpus import stopwords\n",
    "from nltk.tokenize import word_tokenize\n",
    "from nltk.stem import WordNetLemmatizer\n",
    "from sklearn.model_selection import train_test_split\n",
    "from sklearn.feature_extraction.text import TfidfVectorizer\n",
    "from sklearn.naive_bayes import MultinomialNB\n",
    "from sklearn.svm import SVC\n",
    "from sklearn.metrics import accuracy_score, precision_score, recall_score, confusion_matrix\n",
    "tqdm.pandas()"
   ]
  },
  {
   "cell_type": "code",
   "execution_count": 3,
   "metadata": {},
   "outputs": [
    {
     "data": {
      "text/html": [
       "<div>\n",
       "<style scoped>\n",
       "    .dataframe tbody tr th:only-of-type {\n",
       "        vertical-align: middle;\n",
       "    }\n",
       "\n",
       "    .dataframe tbody tr th {\n",
       "        vertical-align: top;\n",
       "    }\n",
       "\n",
       "    .dataframe thead th {\n",
       "        text-align: right;\n",
       "    }\n",
       "</style>\n",
       "<table border=\"1\" class=\"dataframe\">\n",
       "  <thead>\n",
       "    <tr style=\"text-align: right;\">\n",
       "      <th></th>\n",
       "      <th>Unnamed: 0</th>\n",
       "      <th>TITLE</th>\n",
       "      <th>LINK</th>\n",
       "      <th>CONTENT</th>\n",
       "      <th>RELEASE_TIME</th>\n",
       "      <th>Human Label</th>\n",
       "    </tr>\n",
       "  </thead>\n",
       "  <tbody>\n",
       "    <tr>\n",
       "      <th>0</th>\n",
       "      <td>0</td>\n",
       "      <td>Tesla recall, Netflix-FIFA deal, Apple: Market...</td>\n",
       "      <td>https://finance.yahoo.com/video/tesla-recall-n...</td>\n",
       "      <td>Yahoo Finance host Rachelle Akuffo tackles thr...</td>\n",
       "      <td>3 hours ago</td>\n",
       "      <td>neutral</td>\n",
       "    </tr>\n",
       "    <tr>\n",
       "      <th>1</th>\n",
       "      <td>1</td>\n",
       "      <td>Elon Musk Told The U.N. If They Could Show A P...</td>\n",
       "      <td>https://finance.yahoo.com/news/elon-musk-told-...</td>\n",
       "      <td>In a world where hunger kills more people each...</td>\n",
       "      <td>9 minutes ago</td>\n",
       "      <td>neutral</td>\n",
       "    </tr>\n",
       "    <tr>\n",
       "      <th>2</th>\n",
       "      <td>2</td>\n",
       "      <td>Magnificent Seven Stocks: Nvidia, Tesla Revers...</td>\n",
       "      <td>https://finance.yahoo.com/m/4205eaa9-f620-3a0b...</td>\n",
       "      <td>Dubbed the Magnificent Seven stocks, Apple, Mi...</td>\n",
       "      <td>14 minutes ago</td>\n",
       "      <td>positive</td>\n",
       "    </tr>\n",
       "    <tr>\n",
       "      <th>3</th>\n",
       "      <td>3</td>\n",
       "      <td>These Stocks Are Moving the Most Today: FedEx,...</td>\n",
       "      <td>https://finance.yahoo.com/m/57c66b45-0b6c-3ce7...</td>\n",
       "      <td>FedEx, the shipping and logistics giant, plans...</td>\n",
       "      <td>1 hour ago</td>\n",
       "      <td>positive</td>\n",
       "    </tr>\n",
       "    <tr>\n",
       "      <th>4</th>\n",
       "      <td>4</td>\n",
       "      <td>Hyundai and Samsung in talks for automotive ch...</td>\n",
       "      <td>https://finance.yahoo.com/news/hyundai-samsung...</td>\n",
       "      <td>Hyundai aims to establish a domestic supply ch...</td>\n",
       "      <td>1 hour ago</td>\n",
       "      <td>neutral</td>\n",
       "    </tr>\n",
       "  </tbody>\n",
       "</table>\n",
       "</div>"
      ],
      "text/plain": [
       "   Unnamed: 0                                              TITLE  \\\n",
       "0           0  Tesla recall, Netflix-FIFA deal, Apple: Market...   \n",
       "1           1  Elon Musk Told The U.N. If They Could Show A P...   \n",
       "2           2  Magnificent Seven Stocks: Nvidia, Tesla Revers...   \n",
       "3           3  These Stocks Are Moving the Most Today: FedEx,...   \n",
       "4           4  Hyundai and Samsung in talks for automotive ch...   \n",
       "\n",
       "                                                LINK  \\\n",
       "0  https://finance.yahoo.com/video/tesla-recall-n...   \n",
       "1  https://finance.yahoo.com/news/elon-musk-told-...   \n",
       "2  https://finance.yahoo.com/m/4205eaa9-f620-3a0b...   \n",
       "3  https://finance.yahoo.com/m/57c66b45-0b6c-3ce7...   \n",
       "4  https://finance.yahoo.com/news/hyundai-samsung...   \n",
       "\n",
       "                                             CONTENT    RELEASE_TIME  \\\n",
       "0  Yahoo Finance host Rachelle Akuffo tackles thr...     3 hours ago   \n",
       "1  In a world where hunger kills more people each...   9 minutes ago   \n",
       "2  Dubbed the Magnificent Seven stocks, Apple, Mi...  14 minutes ago   \n",
       "3  FedEx, the shipping and logistics giant, plans...      1 hour ago   \n",
       "4  Hyundai aims to establish a domestic supply ch...      1 hour ago   \n",
       "\n",
       "  Human Label  \n",
       "0     neutral  \n",
       "1     neutral  \n",
       "2    positive  \n",
       "3    positive  \n",
       "4     neutral  "
      ]
     },
     "execution_count": 3,
     "metadata": {},
     "output_type": "execute_result"
    }
   ],
   "source": [
    "file_path = '../Crawl_Data/Data/yahoo_news_20241221_044513.csv'\n",
    "df = pd.read_csv(file_path)\n",
    "df.head()"
   ]
  },
  {
   "cell_type": "code",
   "execution_count": 4,
   "metadata": {},
   "outputs": [
    {
     "data": {
      "text/html": [
       "<div>\n",
       "<style scoped>\n",
       "    .dataframe tbody tr th:only-of-type {\n",
       "        vertical-align: middle;\n",
       "    }\n",
       "\n",
       "    .dataframe tbody tr th {\n",
       "        vertical-align: top;\n",
       "    }\n",
       "\n",
       "    .dataframe thead th {\n",
       "        text-align: right;\n",
       "    }\n",
       "</style>\n",
       "<table border=\"1\" class=\"dataframe\">\n",
       "  <thead>\n",
       "    <tr style=\"text-align: right;\">\n",
       "      <th></th>\n",
       "      <th>Id</th>\n",
       "      <th>TITLE</th>\n",
       "      <th>CONTENT</th>\n",
       "      <th>Human Label</th>\n",
       "    </tr>\n",
       "  </thead>\n",
       "  <tbody>\n",
       "    <tr>\n",
       "      <th>0</th>\n",
       "      <td>0</td>\n",
       "      <td>Tesla recall, Netflix-FIFA deal, Apple: Market...</td>\n",
       "      <td>Yahoo Finance host Rachelle Akuffo tackles thr...</td>\n",
       "      <td>neutral</td>\n",
       "    </tr>\n",
       "    <tr>\n",
       "      <th>1</th>\n",
       "      <td>1</td>\n",
       "      <td>Elon Musk Told The U.N. If They Could Show A P...</td>\n",
       "      <td>In a world where hunger kills more people each...</td>\n",
       "      <td>neutral</td>\n",
       "    </tr>\n",
       "    <tr>\n",
       "      <th>2</th>\n",
       "      <td>2</td>\n",
       "      <td>Magnificent Seven Stocks: Nvidia, Tesla Revers...</td>\n",
       "      <td>Dubbed the Magnificent Seven stocks, Apple, Mi...</td>\n",
       "      <td>positive</td>\n",
       "    </tr>\n",
       "    <tr>\n",
       "      <th>3</th>\n",
       "      <td>3</td>\n",
       "      <td>These Stocks Are Moving the Most Today: FedEx,...</td>\n",
       "      <td>FedEx, the shipping and logistics giant, plans...</td>\n",
       "      <td>positive</td>\n",
       "    </tr>\n",
       "    <tr>\n",
       "      <th>4</th>\n",
       "      <td>4</td>\n",
       "      <td>Hyundai and Samsung in talks for automotive ch...</td>\n",
       "      <td>Hyundai aims to establish a domestic supply ch...</td>\n",
       "      <td>neutral</td>\n",
       "    </tr>\n",
       "  </tbody>\n",
       "</table>\n",
       "</div>"
      ],
      "text/plain": [
       "   Id                                              TITLE  \\\n",
       "0   0  Tesla recall, Netflix-FIFA deal, Apple: Market...   \n",
       "1   1  Elon Musk Told The U.N. If They Could Show A P...   \n",
       "2   2  Magnificent Seven Stocks: Nvidia, Tesla Revers...   \n",
       "3   3  These Stocks Are Moving the Most Today: FedEx,...   \n",
       "4   4  Hyundai and Samsung in talks for automotive ch...   \n",
       "\n",
       "                                             CONTENT Human Label  \n",
       "0  Yahoo Finance host Rachelle Akuffo tackles thr...     neutral  \n",
       "1  In a world where hunger kills more people each...     neutral  \n",
       "2  Dubbed the Magnificent Seven stocks, Apple, Mi...    positive  \n",
       "3  FedEx, the shipping and logistics giant, plans...    positive  \n",
       "4  Hyundai aims to establish a domestic supply ch...     neutral  "
      ]
     },
     "execution_count": 4,
     "metadata": {},
     "output_type": "execute_result"
    }
   ],
   "source": [
    "df = df[['TITLE','CONTENT','Human Label']]\n",
    "df = df.reset_index().rename(columns={'index':'Id'})\n",
    "df.head()"
   ]
  },
  {
   "cell_type": "code",
   "execution_count": 5,
   "metadata": {},
   "outputs": [],
   "source": [
    "def preprocess_text(text):\n",
    "    tokens = word_tokenize(text)\n",
    "    tokens = [word.lower() for word in tokens]\n",
    "    tokens = [word for word in tokens if word.isalnum()]\n",
    "    # remove stop words\n",
    "    stop_words = set(stopwords.words('english'))\n",
    "    tokens = [word for word in tokens if word not in stop_words]\n",
    "    # Lemmatize \n",
    "    lemmatizer = WordNetLemmatizer()\n",
    "    tokens = [lemmatizer.lemmatize(word) for word in tokens]\n",
    "\n",
    "    return ' '.join(tokens)"
   ]
  },
  {
   "cell_type": "code",
   "execution_count": 6,
   "metadata": {},
   "outputs": [
    {
     "name": "stderr",
     "output_type": "stream",
     "text": [
      "100%|██████████| 400/400 [00:09<00:00, 42.58it/s] \n"
     ]
    }
   ],
   "source": [
    "df['new_content'] = df['CONTENT'].progress_apply(lambda x: preprocess_text(x))"
   ]
  },
  {
   "cell_type": "code",
   "execution_count": 7,
   "metadata": {},
   "outputs": [],
   "source": [
    "label_mapping = {'negative':-1, 'neutral':0, 'positive':1}\n",
    "df['Human Label'] = df['Human Label'].map(label_mapping).astype(int)"
   ]
  },
  {
   "cell_type": "code",
   "execution_count": 8,
   "metadata": {},
   "outputs": [
    {
     "data": {
      "text/html": [
       "<div>\n",
       "<style scoped>\n",
       "    .dataframe tbody tr th:only-of-type {\n",
       "        vertical-align: middle;\n",
       "    }\n",
       "\n",
       "    .dataframe tbody tr th {\n",
       "        vertical-align: top;\n",
       "    }\n",
       "\n",
       "    .dataframe thead th {\n",
       "        text-align: right;\n",
       "    }\n",
       "</style>\n",
       "<table border=\"1\" class=\"dataframe\">\n",
       "  <thead>\n",
       "    <tr style=\"text-align: right;\">\n",
       "      <th></th>\n",
       "      <th>Id</th>\n",
       "      <th>TITLE</th>\n",
       "      <th>CONTENT</th>\n",
       "      <th>Human Label</th>\n",
       "      <th>new_content</th>\n",
       "    </tr>\n",
       "  </thead>\n",
       "  <tbody>\n",
       "    <tr>\n",
       "      <th>0</th>\n",
       "      <td>0</td>\n",
       "      <td>Tesla recall, Netflix-FIFA deal, Apple: Market...</td>\n",
       "      <td>Yahoo Finance host Rachelle Akuffo tackles thr...</td>\n",
       "      <td>0</td>\n",
       "      <td>yahoo finance host rachelle akuffo tackle thre...</td>\n",
       "    </tr>\n",
       "    <tr>\n",
       "      <th>1</th>\n",
       "      <td>1</td>\n",
       "      <td>Elon Musk Told The U.N. If They Could Show A P...</td>\n",
       "      <td>In a world where hunger kills more people each...</td>\n",
       "      <td>0</td>\n",
       "      <td>world hunger kill people year malaria tubercul...</td>\n",
       "    </tr>\n",
       "    <tr>\n",
       "      <th>2</th>\n",
       "      <td>2</td>\n",
       "      <td>Magnificent Seven Stocks: Nvidia, Tesla Revers...</td>\n",
       "      <td>Dubbed the Magnificent Seven stocks, Apple, Mi...</td>\n",
       "      <td>1</td>\n",
       "      <td>dubbed magnificent seven stock apple microsoft...</td>\n",
       "    </tr>\n",
       "    <tr>\n",
       "      <th>3</th>\n",
       "      <td>3</td>\n",
       "      <td>These Stocks Are Moving the Most Today: FedEx,...</td>\n",
       "      <td>FedEx, the shipping and logistics giant, plans...</td>\n",
       "      <td>1</td>\n",
       "      <td>fedex shipping logistics giant plan spin freig...</td>\n",
       "    </tr>\n",
       "    <tr>\n",
       "      <th>4</th>\n",
       "      <td>4</td>\n",
       "      <td>Hyundai and Samsung in talks for automotive ch...</td>\n",
       "      <td>Hyundai aims to establish a domestic supply ch...</td>\n",
       "      <td>0</td>\n",
       "      <td>hyundai aim establish domestic supply chain au...</td>\n",
       "    </tr>\n",
       "  </tbody>\n",
       "</table>\n",
       "</div>"
      ],
      "text/plain": [
       "   Id                                              TITLE  \\\n",
       "0   0  Tesla recall, Netflix-FIFA deal, Apple: Market...   \n",
       "1   1  Elon Musk Told The U.N. If They Could Show A P...   \n",
       "2   2  Magnificent Seven Stocks: Nvidia, Tesla Revers...   \n",
       "3   3  These Stocks Are Moving the Most Today: FedEx,...   \n",
       "4   4  Hyundai and Samsung in talks for automotive ch...   \n",
       "\n",
       "                                             CONTENT  Human Label  \\\n",
       "0  Yahoo Finance host Rachelle Akuffo tackles thr...            0   \n",
       "1  In a world where hunger kills more people each...            0   \n",
       "2  Dubbed the Magnificent Seven stocks, Apple, Mi...            1   \n",
       "3  FedEx, the shipping and logistics giant, plans...            1   \n",
       "4  Hyundai aims to establish a domestic supply ch...            0   \n",
       "\n",
       "                                         new_content  \n",
       "0  yahoo finance host rachelle akuffo tackle thre...  \n",
       "1  world hunger kill people year malaria tubercul...  \n",
       "2  dubbed magnificent seven stock apple microsoft...  \n",
       "3  fedex shipping logistics giant plan spin freig...  \n",
       "4  hyundai aim establish domestic supply chain au...  "
      ]
     },
     "execution_count": 8,
     "metadata": {},
     "output_type": "execute_result"
    }
   ],
   "source": [
    "df.head()"
   ]
  },
  {
   "cell_type": "markdown",
   "metadata": {},
   "source": [
    "## Modeling"
   ]
  },
  {
   "cell_type": "markdown",
   "metadata": {},
   "source": [
    "### N-grams + TF-IDF"
   ]
  },
  {
   "cell_type": "code",
   "execution_count": 10,
   "metadata": {},
   "outputs": [
    {
     "data": {
      "text/html": [
       "<div>\n",
       "<style scoped>\n",
       "    .dataframe tbody tr th:only-of-type {\n",
       "        vertical-align: middle;\n",
       "    }\n",
       "\n",
       "    .dataframe tbody tr th {\n",
       "        vertical-align: top;\n",
       "    }\n",
       "\n",
       "    .dataframe thead th {\n",
       "        text-align: right;\n",
       "    }\n",
       "</style>\n",
       "<table border=\"1\" class=\"dataframe\">\n",
       "  <thead>\n",
       "    <tr style=\"text-align: right;\">\n",
       "      <th></th>\n",
       "      <th>new_content</th>\n",
       "      <th>Human Label</th>\n",
       "    </tr>\n",
       "  </thead>\n",
       "  <tbody>\n",
       "    <tr>\n",
       "      <th>0</th>\n",
       "      <td>yahoo finance host rachelle akuffo tackle thre...</td>\n",
       "      <td>0</td>\n",
       "    </tr>\n",
       "    <tr>\n",
       "      <th>1</th>\n",
       "      <td>world hunger kill people year malaria tubercul...</td>\n",
       "      <td>0</td>\n",
       "    </tr>\n",
       "    <tr>\n",
       "      <th>2</th>\n",
       "      <td>dubbed magnificent seven stock apple microsoft...</td>\n",
       "      <td>1</td>\n",
       "    </tr>\n",
       "    <tr>\n",
       "      <th>3</th>\n",
       "      <td>fedex shipping logistics giant plan spin freig...</td>\n",
       "      <td>1</td>\n",
       "    </tr>\n",
       "    <tr>\n",
       "      <th>4</th>\n",
       "      <td>hyundai aim establish domestic supply chain au...</td>\n",
       "      <td>0</td>\n",
       "    </tr>\n",
       "  </tbody>\n",
       "</table>\n",
       "</div>"
      ],
      "text/plain": [
       "                                         new_content  Human Label\n",
       "0  yahoo finance host rachelle akuffo tackle thre...            0\n",
       "1  world hunger kill people year malaria tubercul...            0\n",
       "2  dubbed magnificent seven stock apple microsoft...            1\n",
       "3  fedex shipping logistics giant plan spin freig...            1\n",
       "4  hyundai aim establish domestic supply chain au...            0"
      ]
     },
     "execution_count": 10,
     "metadata": {},
     "output_type": "execute_result"
    }
   ],
   "source": [
    "trainData = df[['new_content','Human Label']]\n",
    "trainData.head()"
   ]
  },
  {
   "cell_type": "code",
   "execution_count": 11,
   "metadata": {},
   "outputs": [],
   "source": [
    "X_text = trainData['new_content']\n",
    "y_true = trainData['Human Label']\n",
    "\n",
    "vectorizer = TfidfVectorizer(ngram_range=(1, 2))\n",
    "X_tfidf = vectorizer.fit_transform(X_text)"
   ]
  },
  {
   "cell_type": "code",
   "execution_count": 38,
   "metadata": {},
   "outputs": [],
   "source": [
    "X_train, X_test, y_train, y_test = train_test_split(X_tfidf, y_true, test_size=0.2, random_state=42)"
   ]
  },
  {
   "cell_type": "markdown",
   "metadata": {},
   "source": [
    "### Naive Bayes"
   ]
  },
  {
   "cell_type": "code",
   "execution_count": 39,
   "metadata": {},
   "outputs": [],
   "source": [
    "nb_model = MultinomialNB()\n",
    "nb_model.fit(X_train, y_train)\n",
    "y_pred_nb = nb_model.predict(X_test)"
   ]
  },
  {
   "cell_type": "code",
   "execution_count": 40,
   "metadata": {},
   "outputs": [
    {
     "name": "stdout",
     "output_type": "stream",
     "text": [
      "NB with N-grams and TF-IDF Accuracy: 0.5125\n",
      "NB with N-grams and TF-IDF Precision: 0.782\n",
      "NB with N-grams and TF-IDF Recall: 0.4273\n"
     ]
    }
   ],
   "source": [
    "nb_accuracy = accuracy_score(y_test, y_pred_nb)\n",
    "nb_precision = precision_score(y_test, y_pred_nb, average='macro', zero_division=0)\n",
    "nb_recall = recall_score(y_test, y_pred_nb, average='macro', zero_division=0)\n",
    "print(f'NB with N-grams and TF-IDF Accuracy: {round(nb_accuracy,4)}')\n",
    "print(f'NB with N-grams and TF-IDF Precision: {round(nb_precision,4)}')\n",
    "print(f'NB with N-grams and TF-IDF Recall: {round(nb_recall,4)}')"
   ]
  },
  {
   "cell_type": "markdown",
   "metadata": {},
   "source": [
    "### SVM"
   ]
  },
  {
   "cell_type": "code",
   "execution_count": 41,
   "metadata": {},
   "outputs": [],
   "source": [
    "svm_model = SVC(kernel='linear')\n",
    "svm_model.fit(X_train, y_train)\n",
    "y_pred_svm = svm_model.predict(X_test)"
   ]
  },
  {
   "cell_type": "code",
   "execution_count": 42,
   "metadata": {},
   "outputs": [
    {
     "name": "stdout",
     "output_type": "stream",
     "text": [
      "SVM with N-grams and TF-IDF Accuracy: 0.5875\n",
      "SVM with N-grams and TF-IDF Precision: 0.8111\n",
      "SVM with N-grams and TF-IDF Recall: 0.4861\n"
     ]
    }
   ],
   "source": [
    "svm_accuracy = accuracy_score(y_test, y_pred_svm)\n",
    "svm_precision = precision_score(y_test, y_pred_svm, average='macro')\n",
    "svm_recall = recall_score(y_test, y_pred_svm, average='macro')\n",
    "print(f'SVM with N-grams and TF-IDF Accuracy: {round(svm_accuracy,4)}')\n",
    "print(f'SVM with N-grams and TF-IDF Precision: {round(svm_precision,4)}')\n",
    "print(f'SVM with N-grams and TF-IDF Recall: {round(svm_recall,4)}')"
   ]
  },
  {
   "cell_type": "code",
   "execution_count": 43,
   "metadata": {},
   "outputs": [],
   "source": [
    "svm_cm = confusion_matrix(y_test, y_pred_svm)\n",
    "nb_cm = confusion_matrix(y_test, y_pred_nb)"
   ]
  },
  {
   "cell_type": "code",
   "execution_count": 44,
   "metadata": {},
   "outputs": [
    {
     "data": {
      "image/png": "[encoded data removed]",
      "text/plain": [
       "<Figure size 1200x500 with 4 Axes>"
      ]
     },
     "metadata": {},
     "output_type": "display_data"
    }
   ],
   "source": [
    "import matplotlib.pyplot as plt\n",
    "import seaborn as sns\n",
    "\n",
    "fig, axes = plt.subplots(1, 2, figsize=(12, 5))\n",
    "sns.heatmap(svm_cm, annot=True, fmt='d', cmap='Greens', ax=axes[0])\n",
    "axes[0].set_title(\"SVM Confusion Matrix\")\n",
    "axes[0].set_xlabel(\"Predicted Label\")\n",
    "axes[0].set_ylabel(\"True Label\")\n",
    "\n",
    "# Naïve Bayes Confusion Matrix\n",
    "sns.heatmap(nb_cm, annot=True, fmt='d', cmap='Purples', ax=axes[1])\n",
    "axes[1].set_title(\"Naïve Bayes Confusion Matrix\")\n",
    "axes[1].set_xlabel(\"Predicted Label\")\n",
    "axes[1].set_ylabel(\"True Label\")\n",
    "\n",
    "plt.tight_layout()\n",
    "plt.show()"
   ]
  },
  {
   "cell_type": "code",
   "execution_count": null,
   "metadata": {},
   "outputs": [],
   "source": []
  }
 ],
 "metadata": {
  "kernelspec": {
   "display_name": "DSA",
   "language": "python",
   "name": "dsa"
  },
  "language_info": {
   "codemirror_mode": {
    "name": "ipython",
    "version": 3
   },
   "file_extension": ".py",
   "mimetype": "text/x-python",
   "name": "python",
   "nbconvert_exporter": "python",
   "pygments_lexer": "ipython3",
   "version": "3.11.4"
  }
 },
 "nbformat": 4,
 "nbformat_minor": 2
}
